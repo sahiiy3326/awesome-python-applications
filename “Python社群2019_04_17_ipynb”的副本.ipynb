{
  "nbformat": 4,
  "nbformat_minor": 0,
  "metadata": {
    "colab": {
      "name": "“Python社群2019/04/17.ipynb”的副本",
      "version": "0.3.2",
      "provenance": [],
      "include_colab_link": true
    },
    "kernelspec": {
      "name": "python3",
      "display_name": "Python 3"
    }
  },
  "cells": [
    {
      "cell_type": "markdown",
      "metadata": {
        "id": "view-in-github",
        "colab_type": "text"
      },
      "source": [
        "<a href=\"https://colab.research.google.com/github/sahiiy3326/awesome-python-applications/blob/master/%E2%80%9CPython%E7%A4%BE%E7%BE%A42019_04_17_ipynb%E2%80%9D%E7%9A%84%E5%89%AF%E6%9C%AC.ipynb\" target=\"_parent\"><img src=\"https://colab.research.google.com/assets/colab-badge.svg\" alt=\"Open In Colab\"/></a>"
      ]
    },
    {
      "metadata": {
        "id": "YI7uzZq7JUwU",
        "colab_type": "code",
        "outputId": "1a05387b-f158-4272-85e4-b69c71aa9a2e",
        "colab": {
          "base_uri": "https://localhost:8080/",
          "height": 121
        }
      },
      "cell_type": "code",
      "source": [
        "\"\"\"\n",
        "<print()語法>\n",
        "print(*objects, sep=' ', end='\\n', file=sys.stdout)\n",
        "\n",
        "objects -- 複數，表示可以一次輸出多個對象。輸出多個對象時，需要用\",\"分隔。\n",
        "sep -- 用來間隔多個對象，預設值是一個空格。\n",
        "end -- 用來設定以什麼結尾。預設值是換行符\"\\n\"，可以換成其他字符串。\n",
        "file -- 要寫入的文件對象。(先不教)\n",
        "\"\"\"\n",
        "print( \"aaa\" \"bbb\" \"ccc\",\"ddd\")#用\"\"以及用，的差別\n",
        "\n",
        "a=1;b=2\n",
        "print(a,b)\n",
        "print( a, \" bbb\" )\n",
        "print(str(a)+\"bbb\")\n",
        "\n",
        "print('第一行', end='-')#更改結尾\n",
        "print('第二行')\n",
        "\n",
        "print(\"ctbc\" , \"edu\" , \"tw\" , sep = \".\" ) #設置間隔符"
      ],
      "execution_count": 0,
      "outputs": [
        {
          "output_type": "stream",
          "text": [
            "aaabbbccc ddd\n",
            "1 2\n",
            "1  bbb\n",
            "1bbb\n",
            "第一行-第二行\n",
            "ctbc.edu.tw\n"
          ],
          "name": "stdout"
        }
      ]
    },
    {
      "metadata": {
        "id": "jhhV8WxgNoMr",
        "colab_type": "code",
        "outputId": "a77b4364-4519-453c-8e05-f4ec5f3e6ce9",
        "colab": {
          "base_uri": "https://localhost:8080/",
          "height": 34
        }
      },
      "cell_type": "code",
      "source": [
        "\"\"\"\n",
        "<print的縮排與換行>\n",
        "\\b -- 退格\n",
        "\\t -- 縮排\n",
        "\\n -- 換行\n",
        "\\ -- 續行\n",
        "\"\"\"\n",
        "#退格\n",
        "print(\"abcd\\b\")"
      ],
      "execution_count": 0,
      "outputs": [
        {
          "output_type": "stream",
          "text": [
            "abcd\b\n"
          ],
          "name": "stdout"
        }
      ]
    },
    {
      "metadata": {
        "id": "5EzoqRcUM1Vm",
        "colab_type": "code",
        "outputId": "a6822b80-f332-4af3-ea3b-c26137e1c9d8",
        "colab": {
          "base_uri": "https://localhost:8080/",
          "height": 121
        }
      },
      "cell_type": "code",
      "source": [
        "\"\"\"\n",
        "<練習>\n",
        "以一行程式碼print出李清照的《一剪梅》：\n",
        "一剪梅 　\"李清照\"\n",
        "\n",
        "紅藕香殘玉簟秋。 輕解羅裳，獨上蘭舟。\n",
        "雲中誰寄錦書來？ 雁字回時，月滿西樓。\n",
        "花自飄零水自流，一種相思，兩處閒愁。\n",
        "此情無計可消除，才下眉頭，卻上心頭。\n",
        "\n",
        "\"\"\"\n",
        "#縮排+換行+續行\n",
        "print(\"一剪梅\\t\\\"李清照\\\"\\n\\n紅藕香殘玉簟秋。 輕解羅裳，獨上蘭舟。\\n雲中誰寄錦書來？ \\\n",
        "雁字回時，月滿西樓。\\n花自飄零水自流， 一種相思，兩處閒愁。\\n此情無計可消除， 才下眉頭，卻上心頭。\")"
      ],
      "execution_count": 0,
      "outputs": [
        {
          "output_type": "stream",
          "text": [
            "一剪梅\t\"李清照\"\n",
            "\n",
            "紅藕香殘玉簟秋。 輕解羅裳，獨上蘭舟。\n",
            "雲中誰寄錦書來？ 雁字回時，月滿西樓。\n",
            "花自飄零水自流， 一種相思，兩處閒愁。\n",
            "此情無計可消除， 才下眉頭，卻上心頭。\n"
          ],
          "name": "stdout"
        }
      ]
    },
    {
      "metadata": {
        "id": "JlifkkmDlTtG",
        "colab_type": "code",
        "outputId": "e0c74b7e-e42b-40b4-b64c-83fecdfae450",
        "colab": {
          "base_uri": "https://localhost:8080/",
          "height": 86
        }
      },
      "cell_type": "code",
      "source": [
        "\"\"\"\n",
        "<算數運算符>\n",
        "+\t-- 加\n",
        "-\t-- 減\n",
        "*\t-- 乘\n",
        "/ -- 除\n",
        "% -- 取餘數\n",
        "** -- 冪次方(返回x的y次冪)\n",
        "// -- 取整除(返回商的向下整数部分)\n",
        "\n",
        "<賦值運算符>\n",
        "上方的算數運算符後加上=\n",
        "\"\"\"\n",
        "\n",
        "a = 3\n",
        "b = 10\n",
        "c = 5\n",
        "\n",
        "b /= a #b = b/a\n",
        "print(\"1.\", b)\n",
        "\n",
        "c %= a #c = c%a\n",
        "print(\"2.\", c)\n",
        "\n",
        "c **= a #c=c**a\n",
        "print(\"3.\", c)\n",
        "\n",
        "c //= a #c=c//a\n",
        "print(\"4.\", c)"
      ],
      "execution_count": 0,
      "outputs": [
        {
          "output_type": "stream",
          "text": [
            "1. 3.3333333333333335\n",
            "2. 2\n",
            "3. 8\n",
            "4. 2\n"
          ],
          "name": "stdout"
        }
      ]
    },
    {
      "metadata": {
        "id": "npCmZ-CNGlgZ",
        "colab_type": "code",
        "outputId": "2ad19c35-e18f-4b5d-97fa-2bcd82c42d2a",
        "colab": {
          "base_uri": "https://localhost:8080/",
          "height": 69
        }
      },
      "cell_type": "code",
      "source": [
        "\"\"\"<補充>指定格式\n",
        "1.取指定小數位數\n",
        "2.指定數字位數，不夠在前面補0\n",
        "\"\"\"\n",
        "#1.\n",
        "a=3.3336666666\n",
        "print('%.3f' %a)\n",
        "\n",
        "#2.1 統一月份格式 4月-->04\n",
        "Year=2019;Month=4;Date=18\n",
        "print(\"今天是%d.%02d.%02d\" % (int(Year), int(Month), int(Date)))\n",
        "\n",
        "#2.2 想要print一組0000012345\n",
        "number=12345\n",
        "print(\"%010d\" % int(number))"
      ],
      "execution_count": 0,
      "outputs": [
        {
          "output_type": "stream",
          "text": [
            "3.334\n",
            "今天是2019.04.18\n",
            "0000012345\n"
          ],
          "name": "stdout"
        }
      ]
    },
    {
      "metadata": {
        "id": "1rYpnwBNPm46",
        "colab_type": "code",
        "outputId": "82c5ccc1-76c3-4cbd-e70c-d325e75489dc",
        "colab": {
          "base_uri": "https://localhost:8080/",
          "height": 69
        }
      },
      "cell_type": "code",
      "source": [
        "\"\"\"\n",
        "<input()語法>\n",
        "input([promp])\n",
        "prompt -- 提示信息 #python3中input值為str型態\n",
        "\"\"\"\n",
        "age=input('how old are you?')\n",
        "print(type(age))\n",
        "\n",
        "print(\"你現在\"+age+\"歲\")"
      ],
      "execution_count": 0,
      "outputs": [
        {
          "output_type": "stream",
          "text": [
            "how old are you?20\n",
            "<class 'str'>\n",
            "你現在20歲\n"
          ],
          "name": "stdout"
        }
      ]
    },
    {
      "metadata": {
        "id": "d9zeQxcUNC5z",
        "colab_type": "code",
        "outputId": "d80550b9-3ece-42c1-fd1a-e9f27ab319d5",
        "colab": {
          "base_uri": "https://localhost:8080/",
          "height": 104
        }
      },
      "cell_type": "code",
      "source": [
        "\"\"\"\n",
        "<練習>\n",
        "1.(x+y)^2的值 (使用者輸入x、y)\n",
        "2.1+2+...+(n-1)+n的值 (使用者輸入n)\n",
        "\"\"\"\n",
        "#1.\n",
        "x=int(input(\"請輸入X值\"))\n",
        "y=int(input(\"請輸入Y值\"))\n",
        "print(x**2+y**2+2*x*y)\n",
        "\n",
        "#2.\n",
        "n=int(input(\"請輸入N值\"))\n",
        "print((n+1)*n/2)"
      ],
      "execution_count": 0,
      "outputs": [
        {
          "output_type": "stream",
          "text": [
            "請輸入X值29\n",
            "請輸入Y值1\n",
            "900\n",
            "請輸入N值50\n",
            "1275.0\n"
          ],
          "name": "stdout"
        }
      ]
    },
    {
      "metadata": {
        "id": "U-pfDAuYCzmD",
        "colab_type": "code",
        "outputId": "0faff284-38fe-4b6d-d37c-dfe4652395d1",
        "colab": {
          "base_uri": "https://localhost:8080/",
          "height": 52
        }
      },
      "cell_type": "code",
      "source": [
        "\"\"\"\n",
        "<比較運算符>\n",
        "== -- 等於\n",
        "!= -- 不等於\n",
        "<> -- 不等於 - 比较兩個對象是否不相等，類似 !=\n",
        ">= -- 大於等於\n",
        "<= -- 小於等於\n",
        "\n",
        "<邏輯運算符>\n",
        "and -- 和、且\n",
        "or -- 或\n",
        "not -- 非\n",
        "\n",
        "<身分運算符>\n",
        "is -- 判斷兩個變量是不是引用自一個對象,類似==\n",
        "is not -- 判斷兩個變量是不是引用自不同對象,類似!=\n",
        "\"\"\"\n",
        "print(3 is 3)\n",
        "print(3 is not 3)"
      ],
      "execution_count": 0,
      "outputs": [
        {
          "output_type": "stream",
          "text": [
            "True\n",
            "False\n"
          ],
          "name": "stdout"
        }
      ]
    },
    {
      "metadata": {
        "id": "irGtirnmH_w6",
        "colab_type": "code",
        "outputId": "1ca17e89-ffd9-412b-81d9-81d31129ebdc",
        "colab": {
          "base_uri": "https://localhost:8080/",
          "height": 121
        }
      },
      "cell_type": "code",
      "source": [
        "\"\"\"(這段不用看)\n",
        "<is 和 == 的差別>\n",
        "is 用於判斷兩個變量引用對象是否為同一個(同一塊内存空間)\n",
        "== 用於判斷引用變量的值是否相等\n",
        "\n",
        "a = [1, 2, 3]\n",
        "b = a\n",
        "b is a -->True\n",
        "b == a -->True\n",
        "\n",
        "b = a[:]\n",
        "b is a -->False\n",
        "b == a -->True\n",
        "\"\"\"\n",
        "x = [1, 2, 3]\n",
        "y = x\n",
        "print(y)\n",
        "print(x == y)\n",
        "print(x is y)\n",
        "\n",
        "y = x[:] #指定新的內存空間\n",
        "print(y)\n",
        "print(x == y)\n",
        "print(x is y) #不同內存"
      ],
      "execution_count": 0,
      "outputs": [
        {
          "output_type": "stream",
          "text": [
            "[1, 2, 3]\n",
            "True\n",
            "True\n",
            "[1, 2, 3]\n",
            "True\n",
            "False\n"
          ],
          "name": "stdout"
        }
      ]
    }
  ]
}